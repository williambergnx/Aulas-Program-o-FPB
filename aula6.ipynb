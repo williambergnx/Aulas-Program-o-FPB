{
  "cells": [
    {
      "cell_type": "markdown",
      "metadata": {
        "id": "view-in-github",
        "colab_type": "text"
      },
      "source": [
        "<a href=\"https://colab.research.google.com/github/williambergnx/Aulas-Program-o-FPB/blob/main/aula6.ipynb\" target=\"_parent\"><img src=\"https://colab.research.google.com/assets/colab-badge.svg\" alt=\"Open In Colab\"/></a>"
      ]
    },
    {
      "cell_type": "code",
      "source": [
        "nomes =['ze', 'tiao', 'joaquim']\n",
        "nomes.append('julia')\n",
        "#varios nomes\n",
        "outrosNomes = ['Ana', 'zabe', 'Maria']\n",
        "nomes.extend(outrosNomes)\n",
        "nomes "
      ],
      "metadata": {
        "id": "f1EcySNl_EZG",
        "outputId": "6f3e8a65-b64f-4739-b7ab-0ff282aa288f",
        "colab": {
          "base_uri": "https://localhost:8080/"
        }
      },
      "execution_count": 4,
      "outputs": [
        {
          "output_type": "execute_result",
          "data": {
            "text/plain": [
              "['ze', 'tiao', 'joaquim', 'julia', 'Ana', 'zabe', 'Maria']"
            ]
          },
          "metadata": {},
          "execution_count": 4
        }
      ]
    },
    {
      "cell_type": "code",
      "source": [
        "#Crie uma lista de numeros e \n",
        "numeros = [2, 4, 1, 6, 9, 12]\n",
        "#remova o primeiro elemento da lista\n",
        "numeros.remove(numeros[0])\n",
        "#renova o último elemento da lista\n",
        "numeros.pop()\n",
        "\n",
        "numeros"
      ],
      "metadata": {
        "id": "7SWt0i_b9_sa",
        "outputId": "6f0a3c7d-b80d-43f6-9de1-d6dca5c91249",
        "colab": {
          "base_uri": "https://localhost:8080/"
        }
      },
      "execution_count": 5,
      "outputs": [
        {
          "output_type": "execute_result",
          "data": {
            "text/plain": [
              "[4, 1, 6, 9]"
            ]
          },
          "metadata": {},
          "execution_count": 5
        }
      ]
    },
    {
      "cell_type": "code",
      "source": [
        "#crie uma lista de notas, e exibida-a da menor\n",
        "notas = [2,10, 9, 4, 7, 3, 8]\n",
        "nomes = ['Ademar', 'Maristênio', 'Asdrúbal', 'Leo']\n",
        "notas.sort()\n",
        "nomes.sort(reverse=True)\n",
        "\n",
        "\n",
        "nomes"
      ],
      "metadata": {
        "id": "6pit-V-K_6KJ",
        "outputId": "04413789-a25b-4842-c01c-b7099fe41ff4",
        "colab": {
          "base_uri": "https://localhost:8080/"
        }
      },
      "execution_count": 6,
      "outputs": [
        {
          "output_type": "execute_result",
          "data": {
            "text/plain": [
              "['Maristênio', 'Leo', 'Asdrúbal', 'Ademar']"
            ]
          },
          "metadata": {},
          "execution_count": 6
        }
      ]
    },
    {
      "cell_type": "code",
      "source": [
        "#Exemplo função map - cria uma nova lista com o dobro\n",
        "numeros = [2, 4, 6, 3]\n",
        "nova_lista = list(map(lambda x : x*2, numeros))\n",
        "nova_lista"
      ],
      "metadata": {
        "id": "pL23Ej3QBfJZ",
        "outputId": "202fea94-b68a-4800-84ee-834849b0d5ce",
        "colab": {
          "base_uri": "https://localhost:8080/"
        }
      },
      "execution_count": 7,
      "outputs": [
        {
          "output_type": "execute_result",
          "data": {
            "text/plain": [
              "[4, 8, 12, 6]"
            ]
          },
          "metadata": {},
          "execution_count": 7
        }
      ]
    },
    {
      "cell_type": "code",
      "source": [
        "#pegar cada um dos numeros e dividir por 3\n",
        "numeros = [2, 4, 6, 3]\n",
        "nova_lista = list(map(lambda x : x/3, numeros))\n",
        "nova_lista"
      ],
      "metadata": {
        "id": "-Nmi3p-gDIbA",
        "outputId": "116e1e98-9cb9-4bfa-9cbc-29441f3f76f4",
        "colab": {
          "base_uri": "https://localhost:8080/"
        }
      },
      "execution_count": 9,
      "outputs": [
        {
          "output_type": "execute_result",
          "data": {
            "text/plain": [
              "[0.6666666666666666, 1.3333333333333333, 2.0, 1.0]"
            ]
          },
          "metadata": {},
          "execution_count": 9
        }
      ]
    },
    {
      "cell_type": "code",
      "source": [
        "#pegar cada numero e soma 2\n",
        "numeros = [2, 4, 6, 3]\n",
        "num2 = list(map(lambda x : x+2, numeros))\n",
        "num2"
      ],
      "metadata": {
        "id": "-6mjGuQGD8NP",
        "outputId": "2416e010-f4f5-4999-dc0f-551fad2a6105",
        "colab": {
          "base_uri": "https://localhost:8080/"
        }
      },
      "execution_count": 11,
      "outputs": [
        {
          "output_type": "execute_result",
          "data": {
            "text/plain": [
              "[4, 6, 8, 5]"
            ]
          },
          "metadata": {},
          "execution_count": 11
        }
      ]
    },
    {
      "cell_type": "code",
      "source": [
        "#Exemplo função filter a partir de uma lista de nomes \n",
        "nomes = ['josé', 'joão', 'sebastião', 'Angelica', 'Leonardo', 'Bárbara']\n",
        "\n",
        "new_list = list(filter(lambda x : len(x)>5, nomes))\n",
        "new_list"
      ],
      "metadata": {
        "id": "BRTqCEIBEvZu",
        "outputId": "d4838d2f-603b-4eca-d76d-79db521d43fc",
        "colab": {
          "base_uri": "https://localhost:8080/"
        }
      },
      "execution_count": 14,
      "outputs": [
        {
          "output_type": "execute_result",
          "data": {
            "text/plain": [
              "['sebastião', 'Angelica', 'Leonardo', 'Bárbara']"
            ]
          },
          "metadata": {},
          "execution_count": 14
        }
      ]
    },
    {
      "cell_type": "code",
      "source": [
        "notas = [1, 8, 9, 10, 6]\n",
        "\n",
        "new_list = list(filter(lambda x : x >= 6, notas))\n",
        "new_list"
      ],
      "metadata": {
        "id": "Y_HiGABUGMnm",
        "outputId": "0d1ac5db-651a-4318-e78d-8b84574e4211",
        "colab": {
          "base_uri": "https://localhost:8080/"
        }
      },
      "execution_count": 19,
      "outputs": [
        {
          "output_type": "execute_result",
          "data": {
            "text/plain": [
              "[8, 9, 10, 6]"
            ]
          },
          "metadata": {},
          "execution_count": 19
        }
      ]
    },
    {
      "cell_type": "code",
      "source": [
        "numeros = [2, 8, 9, 7, 9, 3]\n",
        "numquad = list(map(lambda x : x **2, numeros))\n",
        "numquad"
      ],
      "metadata": {
        "id": "HoG6mRaKIvHM",
        "outputId": "92abb74b-2a68-4d81-ab7a-d174afb9cbfe",
        "colab": {
          "base_uri": "https://localhost:8080/"
        }
      },
      "execution_count": 24,
      "outputs": [
        {
          "output_type": "execute_result",
          "data": {
            "text/plain": [
              "[4, 64, 81, 49, 81, 9]"
            ]
          },
          "metadata": {},
          "execution_count": 24
        }
      ]
    },
    {
      "cell_type": "code",
      "source": [
        "nomes = ['Adrianar', 'marcia', 'belo',]\n",
        "new_list = list(map(lambda x : len(x), nomes))\n",
        "new_list"
      ],
      "metadata": {
        "id": "qCx7su8_L1ua",
        "outputId": "8ddc464a-d218-45c4-c48d-0c03056d0eab",
        "colab": {
          "base_uri": "https://localhost:8080/"
        }
      },
      "execution_count": 29,
      "outputs": [
        {
          "output_type": "execute_result",
          "data": {
            "text/plain": [
              "[8, 6, 4]"
            ]
          },
          "metadata": {},
          "execution_count": 29
        }
      ]
    },
    {
      "cell_type": "code",
      "source": [
        "numeros = [9, 7, 12, 6, 3, 27, 14]\n",
        "new_list = list(filter(lambda x: x%2==0, numeros ))\n",
        "\n",
        "new_list"
      ],
      "metadata": {
        "id": "WrvN_vsOOVcB",
        "outputId": "75c28c1a-9667-4898-cbbb-25f6d78bff2c",
        "colab": {
          "base_uri": "https://localhost:8080/"
        }
      },
      "execution_count": 30,
      "outputs": [
        {
          "output_type": "execute_result",
          "data": {
            "text/plain": [
              "[12, 6, 14]"
            ]
          },
          "metadata": {},
          "execution_count": 30
        }
      ]
    },
    {
      "cell_type": "code",
      "source": [
        "nomes = ['adilhio', 'adalto', 'eltom']\n",
        "newlist = list(filter(lambda x : x[0] == 'a', nomes ))\n",
        "newlist"
      ],
      "metadata": {
        "id": "iwMiWSbzO3eK",
        "outputId": "58bdaa0c-1e03-47c7-e70c-735a542b2737",
        "colab": {
          "base_uri": "https://localhost:8080/"
        }
      },
      "execution_count": 33,
      "outputs": [
        {
          "output_type": "execute_result",
          "data": {
            "text/plain": [
              "['adilhio', 'adalto']"
            ]
          },
          "metadata": {},
          "execution_count": 33
        }
      ]
    }
  ],
  "metadata": {
    "colab": {
      "name": "Olá, este é o Colaboratory",
      "toc_visible": true,
      "provenance": [],
      "include_colab_link": true
    },
    "kernelspec": {
      "display_name": "Python 3",
      "name": "python3"
    }
  },
  "nbformat": 4,
  "nbformat_minor": 0
}