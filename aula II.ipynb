{
  "nbformat": 4,
  "nbformat_minor": 0,
  "metadata": {
    "colab": {
      "provenance": [],
      "authorship_tag": "ABX9TyNlb8pDuMITjSY0K9jRQWRl",
      "include_colab_link": true
    },
    "kernelspec": {
      "name": "python3",
      "display_name": "Python 3"
    },
    "language_info": {
      "name": "python"
    }
  },
  "cells": [
    {
      "cell_type": "markdown",
      "metadata": {
        "id": "view-in-github",
        "colab_type": "text"
      },
      "source": [
        "<a href=\"https://colab.research.google.com/github/williambergnx/Aulas-Program-o-FPB/blob/main/aula%20II.ipynb\" target=\"_parent\"><img src=\"https://colab.research.google.com/assets/colab-badge.svg\" alt=\"Open In Colab\"/></a>"
      ]
    },
    {
      "cell_type": "code",
      "execution_count": null,
      "metadata": {
        "colab": {
          "base_uri": "https://localhost:8080/"
        },
        "id": "XMAs5iKeqs0p",
        "outputId": "fa2526ac-31d1-4eca-8841-81566d31723d"
      },
      "outputs": [
        {
          "output_type": "stream",
          "name": "stdout",
          "text": [
            "pode se aposentar\n"
          ]
        }
      ],
      "source": [
        "#se for do sexo feminino \"F\", e tiver 55 anos ou mais, pode se aposentar\n",
        "#Se for do sexo masculino \"M\", só se aposenta com 60 anos ou mais.\n",
        "sexo = \"M\"\n",
        "idade = 68\n",
        "if(sexo == \"F\" and idade >=55):\n",
        "  print(\"Pode se aposentar\")\n",
        "elif(sexo == 'M' and idade >=60):\n",
        "  print('pode se aposentar')\n",
        "else:\n",
        "  print('Ainda não pode')    "
      ]
    },
    {
      "cell_type": "code",
      "source": [
        "#se for do sexo feminino \"F\", e tiver 55 anos ou mais, pode se aposentar\n",
        "#Se for do sexo masculino \"M\", só se aposenta com 60 anos ou mais.\n",
        "sexo = \"M\"\n",
        "idade = 59\n",
        "if((sexo == \"F\" and idade >=55) or (sexo == 'M' and idade >=60)):\n",
        "  print('pode se aposentar')\n",
        "else:\n",
        "  print('Ainda não pode')"
      ],
      "metadata": {
        "colab": {
          "base_uri": "https://localhost:8080/"
        },
        "id": "gSEiU229tFtr",
        "outputId": "e86e8cc6-de4b-4c1a-9bfd-068108cfafb2"
      },
      "execution_count": null,
      "outputs": [
        {
          "output_type": "stream",
          "name": "stdout",
          "text": [
            "Ainda não pode\n"
          ]
        }
      ]
    },
    {
      "cell_type": "code",
      "source": [
        "#se for do sexo feminino \"F\", e tiver 55 anos ou mais, pode se aposentar\n",
        "#Se for do sexo masculino \"M\", só se aposenta com 60 anos ou mais.\n",
        "sexo = input('insira o sexo: m (macolino) ou f (feminino): ')\n",
        "idade = int(input('insira a idade: '))\n",
        "if((sexo == \"f\" and idade >=55) or (sexo == 'm' and idade >=60)):\n",
        "  print('pode se aposentar')\n",
        "else:\n",
        "  print('Ainda não pode')"
      ],
      "metadata": {
        "colab": {
          "base_uri": "https://localhost:8080/"
        },
        "id": "ZaEMGaVRu3HL",
        "outputId": "0243b19b-20ac-48ad-c9e7-82b7bebf8d8e"
      },
      "execution_count": null,
      "outputs": [
        {
          "output_type": "stream",
          "name": "stdout",
          "text": [
            "insira o sexo: m (macolino) ou f (feminino): m\n",
            "insira a idade: 56\n",
            "Ainda não pode\n"
          ]
        }
      ]
    },
    {
      "cell_type": "code",
      "source": [
        "#solicita tres numeros A, B e C.\n",
        "#Imprima na tela se A+B é menor que C.\n",
        "A = int(input('insira um numero ='))\n",
        "B = int(input('insira um numero ='))\n",
        "C = int(input('insira um numero ='))\n",
        "if(A+B < C):\n",
        "  print('é menor')\n",
        "else:\n",
        "  prit('é maior')  \n"
      ],
      "metadata": {
        "colab": {
          "base_uri": "https://localhost:8080/"
        },
        "id": "6SqbWM4tv-ZA",
        "outputId": "c9bd0cea-2dfc-4b4f-d81b-6ac0a4f04f90"
      },
      "execution_count": null,
      "outputs": [
        {
          "output_type": "stream",
          "name": "stdout",
          "text": [
            "insira um numero =13\n",
            "insira um numero =25\n",
            "insira um numero =45\n",
            "é menor\n"
          ]
        }
      ]
    },
    {
      "cell_type": "code",
      "source": [
        "A = int(input('insira um numero: '))\n",
        "B = int(input('insira um numero: '))\n",
        "if(A > B):\n",
        "  print('A é maior')\n",
        "elif(A == B):\n",
        "  print('são iguais')  \n",
        "else:\n",
        "  print('B é maior')  "
      ],
      "metadata": {
        "colab": {
          "base_uri": "https://localhost:8080/"
        },
        "id": "1YPlJ2F6y1Iu",
        "outputId": "0fc668f0-6015-45ad-f1e3-44af1d7012a5"
      },
      "execution_count": 18,
      "outputs": [
        {
          "output_type": "stream",
          "name": "stdout",
          "text": [
            "insira um numero: 45\n",
            "insira um numero: 46\n",
            "B é maior\n"
          ]
        }
      ]
    },
    {
      "cell_type": "code",
      "source": [
        "#linguagens fortemente tipadas\n",
        "#linguagens de tipagem dinâmica"
      ],
      "metadata": {
        "id": "yMzV97CR6r2D"
      },
      "execution_count": null,
      "outputs": []
    },
    {
      "cell_type": "code",
      "source": [
        "#listas são estruturadas de dados formados por elementos de um mesmo tipo\n",
        "numeros = [30,4,5,3,6]\n",
        "numeros"
      ],
      "metadata": {
        "colab": {
          "base_uri": "https://localhost:8080/"
        },
        "id": "yz8DtDCZ62Nj",
        "outputId": "6c2e7e09-bf78-44ea-a7ba-eb9c5b4d51fe"
      },
      "execution_count": 19,
      "outputs": [
        {
          "output_type": "execute_result",
          "data": {
            "text/plain": [
              "[30, 4, 5, 3, 6]"
            ]
          },
          "metadata": {},
          "execution_count": 19
        }
      ]
    },
    {
      "cell_type": "code",
      "source": [
        "#tamanho de uma lista \n",
        "len(numeros)"
      ],
      "metadata": {
        "colab": {
          "base_uri": "https://localhost:8080/"
        },
        "id": "H_CeYqeC7yG_",
        "outputId": "3a9f3422-ab31-49de-980e-22e31b1a8048"
      },
      "execution_count": 20,
      "outputs": [
        {
          "output_type": "execute_result",
          "data": {
            "text/plain": [
              "5"
            ]
          },
          "metadata": {},
          "execution_count": 20
        }
      ]
    },
    {
      "cell_type": "code",
      "source": [
        "#indices [25,4,3,6]\n",
        "print(numeros[0])\n",
        "print(numeros[1])\n",
        "print(numeros[2])\n",
        "print(numeros[3])"
      ],
      "metadata": {
        "colab": {
          "base_uri": "https://localhost:8080/"
        },
        "id": "LVXkHfb77_R7",
        "outputId": "1094044c-5b5b-4e13-f5c7-36b363df8a15"
      },
      "execution_count": 22,
      "outputs": [
        {
          "output_type": "stream",
          "name": "stdout",
          "text": [
            "30\n",
            "4\n",
            "5\n",
            "3\n"
          ]
        }
      ]
    },
    {
      "cell_type": "code",
      "source": [
        "#listas de outros tipos\n",
        "alunos = ['maria', 'berg', 'renato', 'mariano', 'william']\n",
        "alunos"
      ],
      "metadata": {
        "colab": {
          "base_uri": "https://localhost:8080/"
        },
        "id": "Q6hJ8yHD8fIV",
        "outputId": "385e9552-2963-419c-a8c3-25668a931f58"
      },
      "execution_count": 25,
      "outputs": [
        {
          "output_type": "execute_result",
          "data": {
            "text/plain": [
              "['maria', 'berg', 'renato', 'mariano', 'william']"
            ]
          },
          "metadata": {},
          "execution_count": 25
        }
      ]
    },
    {
      "cell_type": "code",
      "source": [
        "#alterar os valores de intens de lista \n",
        "alunos[3] = 'ivan'"
      ],
      "metadata": {
        "colab": {
          "base_uri": "https://localhost:8080/"
        },
        "id": "Ia_R75uP-BJT",
        "outputId": "ff3e3aef-166d-4d84-aa03-8f07ecd57151"
      },
      "execution_count": 28,
      "outputs": [
        {
          "output_type": "execute_result",
          "data": {
            "text/plain": [
              "5"
            ]
          },
          "metadata": {},
          "execution_count": 28
        }
      ]
    },
    {
      "cell_type": "code",
      "source": [
        "#inserir valores na lista .append()\n",
        "alunos.append('Aderbal')\n",
        "alunos"
      ],
      "metadata": {
        "colab": {
          "base_uri": "https://localhost:8080/"
        },
        "id": "hJNVcK6K_GAr",
        "outputId": "bf9b132c-e807-4e75-e470-cf68ad3fc093"
      },
      "execution_count": 30,
      "outputs": [
        {
          "output_type": "execute_result",
          "data": {
            "text/plain": [
              "['maria', 'berg', 'renato', 'renato', 'william', 'aderbal', 'Aderbal']"
            ]
          },
          "metadata": {},
          "execution_count": 30
        }
      ]
    },
    {
      "cell_type": "code",
      "source": [
        "alunos.append(input('Digiti o nome: '))"
      ],
      "metadata": {
        "colab": {
          "base_uri": "https://localhost:8080/"
        },
        "id": "MuhKdy_Z_nGY",
        "outputId": "9e4f3616-c355-4d6c-9f9f-f58e31825d8b"
      },
      "execution_count": 31,
      "outputs": [
        {
          "name": "stdout",
          "output_type": "stream",
          "text": [
            "Digiti o nome: berg\n"
          ]
        }
      ]
    },
    {
      "cell_type": "code",
      "source": [
        "alunos.pop()\n",
        "alunos"
      ],
      "metadata": {
        "colab": {
          "base_uri": "https://localhost:8080/"
        },
        "id": "jntzCrppAEri",
        "outputId": "c2f7e1f5-d60c-41ce-dfc2-48f4d16b429b"
      },
      "execution_count": 37,
      "outputs": [
        {
          "output_type": "execute_result",
          "data": {
            "text/plain": [
              "['maria', 'berg', 'renato', 'renato', 'william']"
            ]
          },
          "metadata": {},
          "execution_count": 37
        }
      ]
    },
    {
      "cell_type": "code",
      "source": [
        "#Descobrir se há um valor determinado na lista, exibir sua posição \n",
        "if 'Mariana' in alunos:\n",
        "   print('tem sim')\n",
        "else:\n",
        "  print('tem não ')   \n"
      ],
      "metadata": {
        "colab": {
          "base_uri": "https://localhost:8080/"
        },
        "id": "oVbPNgoW_5sC",
        "outputId": "024fbb61-d4f4-4ea6-a607-ef096ef984d9"
      },
      "execution_count": 38,
      "outputs": [
        {
          "output_type": "stream",
          "name": "stdout",
          "text": [
            "tem não \n"
          ]
        }
      ]
    }
  ]
}