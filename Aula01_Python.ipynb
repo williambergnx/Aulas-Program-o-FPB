{
  "nbformat": 4,
  "nbformat_minor": 0,
  "metadata": {
    "colab": {
      "provenance": [],
      "authorship_tag": "ABX9TyN4/n2lf33+SUaI1Di3792c",
      "include_colab_link": true
    },
    "kernelspec": {
      "name": "python3",
      "display_name": "Python 3"
    },
    "language_info": {
      "name": "python"
    }
  },
  "cells": [
    {
      "cell_type": "markdown",
      "metadata": {
        "id": "view-in-github",
        "colab_type": "text"
      },
      "source": [
        "<a href=\"https://colab.research.google.com/github/williambergnx/Aulas-Program-o-FPB/blob/main/Aula01_Python.ipynb\" target=\"_parent\"><img src=\"https://colab.research.google.com/assets/colab-badge.svg\" alt=\"Open In Colab\"/></a>"
      ]
    },
    {
      "cell_type": "markdown",
      "source": [
        "meu primeiro pc"
      ],
      "metadata": {
        "id": "Dk_R5ds5vqho"
      }
    },
    {
      "cell_type": "code",
      "source": [
        "print(\"Eu vou programar,geral!\")"
      ],
      "metadata": {
        "colab": {
          "base_uri": "https://localhost:8080/"
        },
        "id": "BqKtrjIlvj7I",
        "outputId": "4350f7b4-4195-4288-815d-76c0a1f4c12c"
      },
      "execution_count": 3,
      "outputs": [
        {
          "output_type": "stream",
          "name": "stdout",
          "text": [
            "Eu vou programar,geral!\n"
          ]
        }
      ]
    },
    {
      "cell_type": "code",
      "source": [
        "#variáveis\n",
        "nome = \"williamberg mariano\"\n",
        "print(nome)"
      ],
      "metadata": {
        "colab": {
          "base_uri": "https://localhost:8080/"
        },
        "id": "lcTzEiTawW6k",
        "outputId": "bc13041f-0b71-4d96-a859-6f22143cdcde"
      },
      "execution_count": 5,
      "outputs": [
        {
          "output_type": "stream",
          "name": "stdout",
          "text": [
            "williamberg mariano\n"
          ]
        }
      ]
    },
    {
      "cell_type": "code",
      "source": [
        "#operações com variáves \n",
        "a = 20\n",
        "b = 35\n",
        "print (a+b)\n",
        "soma = a + b\n",
        "subtracao = a - b \n",
        "divisao = a / b\n",
        "multipli = a * b"
      ],
      "metadata": {
        "colab": {
          "base_uri": "https://localhost:8080/"
        },
        "id": "U_E4Oa7Yw34f",
        "outputId": "981a3956-65cb-41fd-cd8a-0b5840204f0b"
      },
      "execution_count": 15,
      "outputs": [
        {
          "output_type": "stream",
          "name": "stdout",
          "text": [
            "55\n"
          ]
        }
      ]
    },
    {
      "cell_type": "code",
      "source": [
        "print (soma)\n",
        "print(divisao)\n",
        "print (subtracao)\n",
        "print(multipli)"
      ],
      "metadata": {
        "colab": {
          "base_uri": "https://localhost:8080/"
        },
        "id": "BPk7jgJ7x2Q3",
        "outputId": "5e35f66f-002f-474b-aa60-a5a717e78ccd"
      },
      "execution_count": 18,
      "outputs": [
        {
          "output_type": "stream",
          "name": "stdout",
          "text": [
            "55\n",
            "0.5714285714285714\n",
            "-15\n",
            "700\n"
          ]
        }
      ]
    },
    {
      "cell_type": "code",
      "source": [
        "#dobro\n",
        "num = 58\n",
        "print (num * 2)"
      ],
      "metadata": {
        "colab": {
          "base_uri": "https://localhost:8080/"
        },
        "id": "XvLcQo34zSmk",
        "outputId": "56d666b2-b52c-42fa-bdd6-c2c22abdc28a"
      },
      "execution_count": 24,
      "outputs": [
        {
          "output_type": "stream",
          "name": "stdout",
          "text": [
            "116\n"
          ]
        }
      ]
    },
    {
      "cell_type": "code",
      "source": [
        "#media\n",
        "nota1 = 8.2\n",
        "nota2 = 8.6\n",
        "nota3 = 8.7\n",
        "media = (nota1 + nota2 + nota3) /3\n",
        "print (media)"
      ],
      "metadata": {
        "colab": {
          "base_uri": "https://localhost:8080/"
        },
        "id": "aDd7Kr8yz53l",
        "outputId": "d0afe130-4d8f-4da0-bcaa-c2a531437ca1"
      },
      "execution_count": 27,
      "outputs": [
        {
          "output_type": "stream",
          "name": "stdout",
          "text": [
            "8.499999999999998\n"
          ]
        }
      ]
    },
    {
      "cell_type": "code",
      "source": [
        "#caucula idade \n",
        "anoNascimento = 1994\n",
        "print(2023 - 1994)"
      ],
      "metadata": {
        "colab": {
          "base_uri": "https://localhost:8080/"
        },
        "id": "gtkAE0SY18Jm",
        "outputId": "78d4644c-2845-4941-8001-d7b51f51c408"
      },
      "execution_count": 29,
      "outputs": [
        {
          "output_type": "stream",
          "name": "stdout",
          "text": [
            "29\n"
          ]
        }
      ]
    },
    {
      "cell_type": "code",
      "source": [
        "#trabalhando com input\n",
        "nome = input('Digiti o numero: ')\n",
        "print(' olá '+nome)"
      ],
      "metadata": {
        "colab": {
          "base_uri": "https://localhost:8080/"
        },
        "id": "9mRybgYO2dwN",
        "outputId": "ed1fa3ad-6868-497d-f808-ae1e881b69ec"
      },
      "execution_count": 41,
      "outputs": [
        {
          "output_type": "stream",
          "name": "stdout",
          "text": [
            "Digiti o numero: nsnjns\n",
            " olá nsnjns\n"
          ]
        }
      ]
    },
    {
      "cell_type": "code",
      "source": [
        "#pede um numero e multiplica por 3\n",
        "num = int(input(' Digita ai, otario! '))\n",
        "print(num*3)"
      ],
      "metadata": {
        "colab": {
          "base_uri": "https://localhost:8080/"
        },
        "id": "1Q5CBo2T5XA9",
        "outputId": "b6519eb6-b20e-4d39-bfc6-1db9bf9ff094"
      },
      "execution_count": 44,
      "outputs": [
        {
          "output_type": "stream",
          "name": "stdout",
          "text": [
            " Digita ai, otario! 10\n",
            "30\n"
          ]
        }
      ]
    }
  ]
}