{
  "nbformat": 4,
  "nbformat_minor": 0,
  "metadata": {
    "colab": {
      "provenance": [],
      "authorship_tag": "ABX9TyMfn+VWf34iOm7GBGKY0B8c",
      "include_colab_link": true
    },
    "kernelspec": {
      "name": "python3",
      "display_name": "Python 3"
    },
    "language_info": {
      "name": "python"
    }
  },
  "cells": [
    {
      "cell_type": "markdown",
      "metadata": {
        "id": "view-in-github",
        "colab_type": "text"
      },
      "source": [
        "<a href=\"https://colab.research.google.com/github/williambergnx/Aulas-Program-o-FPB/blob/main/LogicadePrograma%C3%A7%C3%A3o.ipynb\" target=\"_parent\"><img src=\"https://colab.research.google.com/assets/colab-badge.svg\" alt=\"Open In Colab\"/></a>"
      ]
    },
    {
      "cell_type": "code",
      "execution_count": 1,
      "metadata": {
        "colab": {
          "base_uri": "https://localhost:8080/"
        },
        "id": "ddL7IFRuB0Ln",
        "outputId": "eb054b85-7e16-4f14-bf43-08103640be17"
      },
      "outputs": [
        {
          "output_type": "execute_result",
          "data": {
            "text/plain": [
              "{'Ostervaldo': 'oster@email.com',\n",
              " 'Maristênio': 'marist@email.com',\n",
              " 'Leroiane': 'lero@email.com',\n",
              " 'Jozezin': ['zezin@exemplo.com', 'zemane@xemple.com']}"
            ]
          },
          "metadata": {},
          "execution_count": 1
        }
      ],
      "source": [
        "#Criando dicionários\n",
        "#Os dicionários são definidos utilizando chaves {} \n",
        "#e os pares chave-valor são separados por dois pontos (:)\n",
        "\n",
        "#Contatos\n",
        "contatos = {\n",
        "    'Ostervaldo' : 'oster@email.com',\n",
        "    'Maristênio' : 'marist@email.com',\n",
        "    'Leroiane' : 'lero@email.com', \n",
        "    'Jozezin' : ['zezin@exemplo.com', 'zemane@xemple.com']\n",
        "}\n",
        "\n",
        "contatos"
      ]
    },
    {
      "cell_type": "code",
      "source": [
        "#Acessando valores\n",
        "contatos['Leroiane']"
      ],
      "metadata": {
        "colab": {
          "base_uri": "https://localhost:8080/",
          "height": 35
        },
        "id": "fSDBd1xTEiEg",
        "outputId": "ff45e23e-238d-4e75-abad-6feca8a0a82f"
      },
      "execution_count": 2,
      "outputs": [
        {
          "output_type": "execute_result",
          "data": {
            "text/plain": [
              "'lero@email.com'"
            ],
            "application/vnd.google.colaboratory.intrinsic+json": {
              "type": "string"
            }
          },
          "metadata": {},
          "execution_count": 2
        }
      ]
    },
    {
      "cell_type": "code",
      "source": [
        "#Para evitar erros ao buscar por possíveis valores inexistentes, utilizar o get()\n",
        "contatos.get('Brasil', 'Contato inexistente')"
      ],
      "metadata": {
        "colab": {
          "base_uri": "https://localhost:8080/",
          "height": 35
        },
        "id": "sG4B7lNYE0lG",
        "outputId": "1ae9dd9c-e4c1-4f45-8792-5d64808ee2dd"
      },
      "execution_count": 3,
      "outputs": [
        {
          "output_type": "execute_result",
          "data": {
            "text/plain": [
              "'Contato inexistente'"
            ],
            "application/vnd.google.colaboratory.intrinsic+json": {
              "type": "string"
            }
          },
          "metadata": {},
          "execution_count": 3
        }
      ]
    },
    {
      "cell_type": "markdown",
      "source": [
        "Adicionando, Modificando e Removendo Pares Chave-Valor"
      ],
      "metadata": {
        "id": "6sM4Z6g2FVXd"
      }
    },
    {
      "cell_type": "code",
      "source": [
        "#CRUD\n",
        "#C - CREATE\n",
        "#R - RECOVERY\n",
        "#U - UPDATE\n",
        "#D - DELETE"
      ],
      "metadata": {
        "id": "V4ZnKEvUFimc"
      },
      "execution_count": 5,
      "outputs": []
    },
    {
      "cell_type": "code",
      "source": [
        "#Criar\n",
        "lutas ={}\n",
        "lutas "
      ],
      "metadata": {
        "id": "TYHgDtdJGeGR"
      },
      "execution_count": null,
      "outputs": []
    },
    {
      "cell_type": "code",
      "source": [
        "#Criar\n",
        "lutadores = [\n",
        "    {\n",
        "        \"nome\": 'Israel Adesanya',\n",
        "        \"categoria\" : \"Meio médio\",\n",
        "        \"envergadura\" : 1.6\n",
        "    }\n",
        "]"
      ],
      "metadata": {
        "id": "qxTMIQLQGkry"
      },
      "execution_count": 6,
      "outputs": []
    },
    {
      "cell_type": "code",
      "source": [
        "lutadores"
      ],
      "metadata": {
        "colab": {
          "base_uri": "https://localhost:8080/"
        },
        "id": "INTxjUMKHVYR",
        "outputId": "9c053bc8-f04a-4db3-f08b-6ac37921085e"
      },
      "execution_count": 7,
      "outputs": [
        {
          "output_type": "execute_result",
          "data": {
            "text/plain": [
              "[{'nome': 'Israel Adesanya', 'categoria': 'Meio médio', 'envergadura': 1.6}]"
            ]
          },
          "metadata": {},
          "execution_count": 7
        }
      ]
    },
    {
      "cell_type": "code",
      "source": [
        "#Adicionar\n",
        "contatos['Evilásio'] = 'evi@exemplo.com'\n",
        "\n",
        "contatos"
      ],
      "metadata": {
        "colab": {
          "base_uri": "https://localhost:8080/"
        },
        "id": "ihFurwGmFFLu",
        "outputId": "23ba23f5-6563-4646-974b-0c18372935ac"
      },
      "execution_count": 4,
      "outputs": [
        {
          "output_type": "execute_result",
          "data": {
            "text/plain": [
              "{'Ostervaldo': 'oster@email.com',\n",
              " 'Maristênio': 'marist@email.com',\n",
              " 'Leroiane': 'lero@email.com',\n",
              " 'Jozezin': ['zezin@exemplo.com', 'zemane@xemple.com'],\n",
              " 'Evilásio': 'evi@exemplo.com'}"
            ]
          },
          "metadata": {},
          "execution_count": 4
        }
      ]
    },
    {
      "cell_type": "code",
      "source": [
        "#Adição por concatenação\n",
        "contacts = {'zé': 'ze@mailzemplo.com', \n",
        "     'gardenia':'gardenia@exemplo.com',\n",
        "     'Aloisio' : 'aloisio@exml.com'}\n",
        "\n",
        "contatos.update(contacts)\n",
        "contatos"
      ],
      "metadata": {
        "colab": {
          "base_uri": "https://localhost:8080/"
        },
        "id": "GjfSnZ6fI7ZI",
        "outputId": "03fdac9d-7175-4bba-a6b2-2ad0758aae46"
      },
      "execution_count": 8,
      "outputs": [
        {
          "output_type": "execute_result",
          "data": {
            "text/plain": [
              "{'Ostervaldo': 'oster@email.com',\n",
              " 'Maristênio': 'marist@email.com',\n",
              " 'Leroiane': 'lero@email.com',\n",
              " 'Jozezin': ['zezin@exemplo.com', 'zemane@xemple.com'],\n",
              " 'Evilásio': 'evi@exemplo.com',\n",
              " 'zé': 'ze@mailzemplo.com',\n",
              " 'gardenia': 'gardenia@exemplo.com',\n",
              " 'Aloisio': 'aloisio@exml.com'}"
            ]
          },
          "metadata": {},
          "execution_count": 8
        }
      ]
    },
    {
      "cell_type": "code",
      "source": [
        "#Modificar (só inserir um novo valor à chave correspondente)\n",
        "contatos['Jozezin'] = 'steniomari2023@exemplo.com'\n",
        "\n",
        "contatos"
      ],
      "metadata": {
        "colab": {
          "base_uri": "https://localhost:8080/"
        },
        "id": "Nc8V-XoYJZ1I",
        "outputId": "9bca5c5a-4088-42b9-c322-0be84a66f361"
      },
      "execution_count": 16,
      "outputs": [
        {
          "output_type": "execute_result",
          "data": {
            "text/plain": [
              "{'Ostervaldo': 'oster@email.com',\n",
              " 'Maristênio': 'steniomari2023@exemplo.com',\n",
              " 'Leroiane': 'lero@email.com',\n",
              " 'Jozezin': 'steniomari2023@exemplo.com',\n",
              " 'Evilásio': 'evi@exemplo.com',\n",
              " 'zé': 'ze@mailzemplo.com',\n",
              " 'gardenia': 'gardenia@exemplo.com',\n",
              " 'Aloisio': 'aloisio@exml.com'}"
            ]
          },
          "metadata": {},
          "execution_count": 16
        }
      ]
    },
    {
      "cell_type": "code",
      "source": [
        "a = 'amanda'\n",
        "'ama' in a"
      ],
      "metadata": {
        "colab": {
          "base_uri": "https://localhost:8080/"
        },
        "id": "iyVKIDwtMMOQ",
        "outputId": "2ab6b3e2-12aa-4f13-b90f-2b26e84abadc"
      },
      "execution_count": 21,
      "outputs": [
        {
          "output_type": "execute_result",
          "data": {
            "text/plain": [
              "True"
            ]
          },
          "metadata": {},
          "execution_count": 21
        }
      ]
    },
    {
      "cell_type": "code",
      "source": [
        "#Remoção del\n",
        "\n",
        "del contatos['Evilásio']\n",
        "\n",
        "contatos"
      ],
      "metadata": {
        "id": "ZsH3KN6-Mpd2"
      },
      "execution_count": null,
      "outputs": []
    },
    {
      "cell_type": "code",
      "source": [
        "contatos.items()"
      ],
      "metadata": {
        "id": "i7vZHWnuPTLr"
      },
      "execution_count": null,
      "outputs": []
    },
    {
      "cell_type": "code",
      "source": [
        "#Iterando sobre dicionários\n",
        "for nome, email in contatos.items():\n",
        "  print(f'o Email {email} pertence a {nome}')\n",
        "     "
      ],
      "metadata": {
        "colab": {
          "base_uri": "https://localhost:8080/"
        },
        "id": "HOKGesXRPUzS",
        "outputId": "10587a13-2069-4aae-85db-f2a51f5b116e"
      },
      "execution_count": 22,
      "outputs": [
        {
          "output_type": "stream",
          "name": "stdout",
          "text": [
            "o Email oster@email.com pertence a Ostervaldo\n",
            "o Email steniomari2023@exemplo.com pertence a Maristênio\n",
            "o Email lero@email.com pertence a Leroiane\n",
            "o Email steniomari2023@exemplo.com pertence a Jozezin\n",
            "o Email evi@exemplo.com pertence a Evilásio\n",
            "o Email ze@mailzemplo.com pertence a zé\n",
            "o Email gardenia@exemplo.com pertence a gardenia\n",
            "o Email aloisio@exml.com pertence a Aloisio\n"
          ]
        }
      ]
    },
    {
      "cell_type": "code",
      "source": [
        "#métodos úteis keys(), values()\n",
        "contatos.keys()\n",
        "contatos.values()\n",
        "     "
      ],
      "metadata": {
        "colab": {
          "base_uri": "https://localhost:8080/"
        },
        "id": "RFRB9tvVP8O_",
        "outputId": "500e2081-d116-468a-e255-a8d6fda5b4b8"
      },
      "execution_count": 23,
      "outputs": [
        {
          "output_type": "execute_result",
          "data": {
            "text/plain": [
              "dict_values(['oster@email.com', 'steniomari2023@exemplo.com', 'lero@email.com', 'steniomari2023@exemplo.com', 'evi@exemplo.com', 'ze@mailzemplo.com', 'gardenia@exemplo.com', 'aloisio@exml.com'])"
            ]
          },
          "metadata": {},
          "execution_count": 23
        }
      ]
    },
    {
      "cell_type": "code",
      "source": [
        "curso = {'Alice': 8.5, 'tiago': 7.0,\n",
        "         'chico': 6.5, 'nubia': 10}\n",
        "#Quem obeteve a maior nota?\n",
        "max(curso, key = curso.get)"
      ],
      "metadata": {
        "colab": {
          "base_uri": "https://localhost:8080/",
          "height": 35
        },
        "id": "1kCT1pgcQDfV",
        "outputId": "df3de946-50af-48fd-9c17-9162598f5893"
      },
      "execution_count": 32,
      "outputs": [
        {
          "output_type": "execute_result",
          "data": {
            "text/plain": [
              "'nubia'"
            ],
            "application/vnd.google.colaboratory.intrinsic+json": {
              "type": "string"
            }
          },
          "metadata": {},
          "execution_count": 32
        }
      ]
    },
    {
      "cell_type": "code",
      "source": [
        "#Ordene pela nota da menor para a maior\n",
        "sorted(curso, key = curso.get)"
      ],
      "metadata": {
        "colab": {
          "base_uri": "https://localhost:8080/"
        },
        "id": "gZ4A5g8QThIF",
        "outputId": "a3d19f42-82a8-41b7-e5fc-afba91f5157a"
      },
      "execution_count": 28,
      "outputs": [
        {
          "output_type": "execute_result",
          "data": {
            "text/plain": [
              "['chico', 'tiago', 'Alice', 'nubia']"
            ]
          },
          "metadata": {},
          "execution_count": 28
        }
      ]
    },
    {
      "cell_type": "code",
      "source": [
        "sorted( curso, key = curso.get, reverse=True)"
      ],
      "metadata": {
        "colab": {
          "base_uri": "https://localhost:8080/"
        },
        "id": "yPJICew9Ts2D",
        "outputId": "b8cd327d-36f8-4de2-d4a7-79814fe253ba"
      },
      "execution_count": 31,
      "outputs": [
        {
          "output_type": "execute_result",
          "data": {
            "text/plain": [
              "['nubia', 'Alice', 'tiago', 'chico']"
            ]
          },
          "metadata": {},
          "execution_count": 31
        }
      ]
    },
    {
      "cell_type": "code",
      "source": [
        "corrida100m = {'Zé': 10, 'marco': 9.9, 'Marta': 9.98, 'Lourdes': 10.2}\n",
        "min(corrida100m, key = corrida100m.get)"
      ],
      "metadata": {
        "colab": {
          "base_uri": "https://localhost:8080/",
          "height": 35
        },
        "id": "6DiZj4dqUV71",
        "outputId": "fa3616a7-23e4-4617-b608-660c507afe43"
      },
      "execution_count": 34,
      "outputs": [
        {
          "output_type": "execute_result",
          "data": {
            "text/plain": [
              "'marco'"
            ],
            "application/vnd.google.colaboratory.intrinsic+json": {
              "type": "string"
            }
          },
          "metadata": {},
          "execution_count": 34
        }
      ]
    },
    {
      "cell_type": "code",
      "source": [
        "corrida100m = {'Zé': 10, 'marco': 9.9, 'Marta': 9.98, 'Lourdes': 10.2}\n",
        "max(corrida100m, key = corrida100m.get)"
      ],
      "metadata": {
        "colab": {
          "base_uri": "https://localhost:8080/",
          "height": 35
        },
        "id": "W36HZ7bGVFQy",
        "outputId": "daacc16d-40bc-4a5b-d0f3-025db856c778"
      },
      "execution_count": 35,
      "outputs": [
        {
          "output_type": "execute_result",
          "data": {
            "text/plain": [
              "'Lourdes'"
            ],
            "application/vnd.google.colaboratory.intrinsic+json": {
              "type": "string"
            }
          },
          "metadata": {},
          "execution_count": 35
        }
      ]
    },
    {
      "cell_type": "code",
      "source": [
        "corrida100m = {'Zé': 10, 'marco': 9.9, 'Marta': 9.98, 'Lourdes': 10.2}\n",
        "min(corrida100m, key = corrida100m.get)"
      ],
      "metadata": {
        "colab": {
          "base_uri": "https://localhost:8080/",
          "height": 35
        },
        "id": "TFKodri9VR0Q",
        "outputId": "e670514a-4fe6-4845-d320-767faaa1b1d9"
      },
      "execution_count": 37,
      "outputs": [
        {
          "output_type": "execute_result",
          "data": {
            "text/plain": [
              "'marco'"
            ],
            "application/vnd.google.colaboratory.intrinsic+json": {
              "type": "string"
            }
          },
          "metadata": {},
          "execution_count": 37
        }
      ]
    },
    {
      "cell_type": "code",
      "source": [
        "corrida100m = {'Zé': 10, 'marco': 9.9, 'Marta': 9.98, 'Lourdes': 10.2}\n",
        "sorted(corrida100m, key = corrida100m.get)"
      ],
      "metadata": {
        "colab": {
          "base_uri": "https://localhost:8080/"
        },
        "id": "Z9mgCJB5VaSv",
        "outputId": "4d5034b1-b379-4161-a9de-c9a690babe4e"
      },
      "execution_count": 36,
      "outputs": [
        {
          "output_type": "execute_result",
          "data": {
            "text/plain": [
              "['marco', 'Marta', 'Zé', 'Lourdes']"
            ]
          },
          "metadata": {},
          "execution_count": 36
        }
      ]
    }
  ]
}