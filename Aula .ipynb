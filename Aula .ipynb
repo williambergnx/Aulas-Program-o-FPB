{
  "nbformat": 4,
  "nbformat_minor": 0,
  "metadata": {
    "colab": {
      "provenance": [],
      "authorship_tag": "ABX9TyPIeAGwNP39WC2oOs2yn+f+",
      "include_colab_link": true
    },
    "kernelspec": {
      "name": "python3",
      "display_name": "Python 3"
    },
    "language_info": {
      "name": "python"
    }
  },
  "cells": [
    {
      "cell_type": "markdown",
      "metadata": {
        "id": "view-in-github",
        "colab_type": "text"
      },
      "source": [
        "<a href=\"https://colab.research.google.com/github/williambergnx/Aulas-Program-o-FPB/blob/main/Aula%20.ipynb\" target=\"_parent\"><img src=\"https://colab.research.google.com/assets/colab-badge.svg\" alt=\"Open In Colab\"/></a>"
      ]
    },
    {
      "cell_type": "code",
      "execution_count": 4,
      "metadata": {
        "colab": {
          "base_uri": "https://localhost:8080/"
        },
        "id": "XMAs5iKeqs0p",
        "outputId": "fa2526ac-31d1-4eca-8841-81566d31723d"
      },
      "outputs": [
        {
          "output_type": "stream",
          "name": "stdout",
          "text": [
            "pode se aposentar\n"
          ]
        }
      ],
      "source": [
        "#se for do sexo feminino \"F\", e tiver 55 anos ou mais, pode se aposentar\n",
        "#Se for do sexo masculino \"M\", só se aposenta com 60 anos ou mais.\n",
        "sexo = \"M\"\n",
        "idade = 68\n",
        "if(sexo == \"F\" and idade >=55):\n",
        "  print(\"Pode se aposentar\")\n",
        "elif(sexo == 'M' and idade >=60):\n",
        "  print('pode se aposentar')\n",
        "else:\n",
        "  print('Ainda não pode')    "
      ]
    },
    {
      "cell_type": "code",
      "source": [
        "#se for do sexo feminino \"F\", e tiver 55 anos ou mais, pode se aposentar\n",
        "#Se for do sexo masculino \"M\", só se aposenta com 60 anos ou mais.\n",
        "sexo = \"M\"\n",
        "idade = 59\n",
        "if((sexo == \"F\" and idade >=55) or (sexo == 'M' and idade >=60)):\n",
        "  print('pode se aposentar')\n",
        "else:\n",
        "  print('Ainda não pode')"
      ],
      "metadata": {
        "colab": {
          "base_uri": "https://localhost:8080/"
        },
        "id": "gSEiU229tFtr",
        "outputId": "e86e8cc6-de4b-4c1a-9bfd-068108cfafb2"
      },
      "execution_count": 8,
      "outputs": [
        {
          "output_type": "stream",
          "name": "stdout",
          "text": [
            "Ainda não pode\n"
          ]
        }
      ]
    },
    {
      "cell_type": "code",
      "source": [
        "#se for do sexo feminino \"F\", e tiver 55 anos ou mais, pode se aposentar\n",
        "#Se for do sexo masculino \"M\", só se aposenta com 60 anos ou mais.\n",
        "sexo = input('insira o sexo: m (macolino) ou f (feminino): ')\n",
        "idade = int(input('insira a idade: '))\n",
        "if((sexo == \"f\" and idade >=55) or (sexo == 'm' and idade >=60)):\n",
        "  print('pode se aposentar')\n",
        "else:\n",
        "  print('Ainda não pode')"
      ],
      "metadata": {
        "colab": {
          "base_uri": "https://localhost:8080/"
        },
        "id": "ZaEMGaVRu3HL",
        "outputId": "0243b19b-20ac-48ad-c9e7-82b7bebf8d8e"
      },
      "execution_count": 9,
      "outputs": [
        {
          "output_type": "stream",
          "name": "stdout",
          "text": [
            "insira o sexo: m (macolino) ou f (feminino): m\n",
            "insira a idade: 56\n",
            "Ainda não pode\n"
          ]
        }
      ]
    },
    {
      "cell_type": "code",
      "source": [
        "#solicita tres numeros A, B e C.\n",
        "#Imprima na tela se A+B é menor que C.\n",
        "A = int(input('insira um numero ='))\n",
        "B = int(input('insira um numero ='))\n",
        "C = int(input('insira um numero ='))\n",
        "if(A+B < C):\n",
        "  print('é menor')\n",
        "else:\n",
        "  prit('é maior')  \n"
      ],
      "metadata": {
        "colab": {
          "base_uri": "https://localhost:8080/"
        },
        "id": "6SqbWM4tv-ZA",
        "outputId": "c9bd0cea-2dfc-4b4f-d81b-6ac0a4f04f90"
      },
      "execution_count": 12,
      "outputs": [
        {
          "output_type": "stream",
          "name": "stdout",
          "text": [
            "insira um numero =13\n",
            "insira um numero =25\n",
            "insira um numero =45\n",
            "é menor\n"
          ]
        }
      ]
    },
    {
      "cell_type": "code",
      "source": [
        "A = int(input('insira um numero'))\n",
        "B = int(input('insira um numero'))\n",
        "if(A > B):\n",
        "  print('A é maior')\n",
        "elif(A == B):\n",
        "  print('são iguais')  \n",
        "else:\n",
        "  print('B é maior')  "
      ],
      "metadata": {
        "colab": {
          "base_uri": "https://localhost:8080/"
        },
        "id": "1YPlJ2F6y1Iu",
        "outputId": "97eb9be9-d49d-42e1-84ac-81cbb91e7046"
      },
      "execution_count": 17,
      "outputs": [
        {
          "output_type": "stream",
          "name": "stdout",
          "text": [
            "insira um numero46\n",
            "insira um numero45\n",
            "A é maior\n"
          ]
        }
      ]
    }
  ]
}