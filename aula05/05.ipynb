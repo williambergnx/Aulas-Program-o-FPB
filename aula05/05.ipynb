{
  "nbformat": 4,
  "nbformat_minor": 0,
  "metadata": {
    "colab": {
      "provenance": [],
      "toc_visible": true,
      "authorship_tag": "ABX9TyM+wORMurdgkci8+ZHrjtMA",
      "include_colab_link": true
    },
    "kernelspec": {
      "name": "python3",
      "display_name": "Python 3"
    },
    "language_info": {
      "name": "python"
    }
  },
  "cells": [
    {
      "cell_type": "markdown",
      "metadata": {
        "id": "view-in-github",
        "colab_type": "text"
      },
      "source": [
        "<a href=\"https://colab.research.google.com/github/williambergnx/Aulas-Program-o-FPB/blob/main/aula05/05.ipynb\" target=\"_parent\"><img src=\"https://colab.research.google.com/assets/colab-badge.svg\" alt=\"Open In Colab\"/></a>"
      ]
    },
    {
      "cell_type": "code",
      "source": [
        "#Criando Listas\n",
        "lista_vazia = []\n",
        "\n",
        "#Lista com elementos\n",
        "lista_Com_coisas = [2, 4, 3, 'Zé', 'Mané']\n",
        "     "
      ],
      "metadata": {
        "id": "731WZ9g25Nt6"
      },
      "execution_count": 2,
      "outputs": []
    },
    {
      "cell_type": "code",
      "source": [
        "#Acessando Elementos da lista\n",
        "lista = [1, 2, 3, \"quatro\", \"cinco\"]\n",
        "\n",
        "print(lista[0])  # 1\n",
        "print(lista[3])  # \"quatro\"\n",
        "print(lista[-1]) # \"cinco\""
      ],
      "metadata": {
        "colab": {
          "base_uri": "https://localhost:8080/"
        },
        "id": "k0RdmOpN5aWx",
        "outputId": "2dc2ceac-30e3-4288-9c1a-9693dea67008"
      },
      "execution_count": 3,
      "outputs": [
        {
          "output_type": "stream",
          "name": "stdout",
          "text": [
            "1\n",
            "quatro\n",
            "cinco\n"
          ]
        }
      ]
    },
    {
      "cell_type": "markdown",
      "source": [
        "Operações com Lista\n",
        "@ Adicionar elementos\n",
        "\n",
        "Para adicionar elementos use um dos métodos append() ou extend()\n",
        "append() - para adicionar um elemento ao final da lista extend() - para adicionar vários elementos ao final da lista\n",
        "\n"
      ],
      "metadata": {
        "id": "__XW10Yy5otf"
      }
    },
    {
      "cell_type": "code",
      "source": [
        "nomes = ['ze', 'tião', 'joaquim']\n",
        "nomes.append('julia')\n",
        "\n",
        "#vários valores\n",
        "outrosNomes = ['Ana', 'Zabé', 'Maria']\n",
        "nomes.extend(outrosNomes)\n",
        "\n",
        "nomes"
      ],
      "metadata": {
        "colab": {
          "base_uri": "https://localhost:8080/"
        },
        "id": "RUUdSo8b5-Gt",
        "outputId": "de8d012f-ddcf-4d18-b06e-343cca8971e8"
      },
      "execution_count": 4,
      "outputs": [
        {
          "output_type": "execute_result",
          "data": {
            "text/plain": [
              "['ze', 'tião', 'joaquim', 'julia', 'Ana', 'Zabé', 'Maria']"
            ]
          },
          "metadata": {},
          "execution_count": 4
        }
      ]
    },
    {
      "cell_type": "code",
      "source": [
        "nomes = ['ze', 'tião', 'joaquim']\n",
        "nomes.append('julia')\n",
        "nomes\n"
      ],
      "metadata": {
        "colab": {
          "base_uri": "https://localhost:8080/"
        },
        "id": "1SM5Jd8x6Qil",
        "outputId": "7374d26e-fc42-46c1-9298-73ced02d9516"
      },
      "execution_count": 6,
      "outputs": [
        {
          "output_type": "execute_result",
          "data": {
            "text/plain": [
              "['ze', 'tião', 'joaquim', 'julia']"
            ]
          },
          "metadata": {},
          "execution_count": 6
        }
      ]
    },
    {
      "cell_type": "code",
      "source": [
        "outrosNomes = ['Ana', 'Zabé', 'Maria']\n",
        "nomes.extend(outrosNomes)\n",
        "\n",
        "nomes"
      ],
      "metadata": {
        "colab": {
          "base_uri": "https://localhost:8080/"
        },
        "id": "16A0BS8a6YHk",
        "outputId": "d7e00b91-8eac-45a0-b33a-a50e182fbe58"
      },
      "execution_count": 7,
      "outputs": [
        {
          "output_type": "execute_result",
          "data": {
            "text/plain": [
              "['ze', 'tião', 'joaquim', 'julia', 'Ana', 'Zabé', 'Maria']"
            ]
          },
          "metadata": {},
          "execution_count": 7
        }
      ]
    },
    {
      "cell_type": "code",
      "source": [
        "a = [2, 3, 4]\n",
        "b = [6,8,9]\n",
        "print(a)"
      ],
      "metadata": {
        "colab": {
          "base_uri": "https://localhost:8080/"
        },
        "id": "yj_T9pSR6hHs",
        "outputId": "d6327c41-6d06-457c-cea9-f9bc4b0764bc"
      },
      "execution_count": 8,
      "outputs": [
        {
          "output_type": "stream",
          "name": "stdout",
          "text": [
            "[2, 3, 4]\n"
          ]
        }
      ]
    },
    {
      "cell_type": "markdown",
      "source": [
        "@ Remoção de elementos\n",
        "\n",
        "Para remover remove() ou pop()  remove() - Remove o primeiro elemento\n",
        "pop() - Remove o último elemento"
      ],
      "metadata": {
        "id": "evPOa9Le6wnb"
      }
    },
    {
      "cell_type": "code",
      "source": [
        "#Crie uma lista de números e \n",
        "numeros = [ 2, 4, 1, 6, 9, 12]\n",
        "#remova o primeiro elemento da lista\n",
        "numeros.remove(numeros[0])\n",
        "#remova o último elemento da lista\n",
        "numeros.pop()\n",
        "\n",
        "numeros"
      ],
      "metadata": {
        "colab": {
          "base_uri": "https://localhost:8080/"
        },
        "id": "3bb0y1qY61rD",
        "outputId": "ac38175c-10f8-42e1-90dc-a8afc3c81978"
      },
      "execution_count": 9,
      "outputs": [
        {
          "output_type": "execute_result",
          "data": {
            "text/plain": [
              "[4, 1, 6, 9]"
            ]
          },
          "metadata": {},
          "execution_count": 9
        }
      ]
    },
    {
      "cell_type": "markdown",
      "source": [
        "Ordenação de Elementos\n",
        "\n",
        "lista . sort() - ordena em ordem crescente\n",
        "lista . sort(reverse=True) - ordena em ordem decrescente"
      ],
      "metadata": {
        "id": "nUnyeUNf73Hf"
      }
    },
    {
      "cell_type": "code",
      "source": [
        "#1 - Crie uma lista de notas, e exiba-a da menor para a maior\n",
        "notas = [2,10, 9, 4, 7, 3, 8]\n",
        "nomes = ['Ademar', 'Maristênio', 'Asdrúbal', 'Leo']\n",
        "notas.sort()\n",
        "nomes.sort(reverse=True)\n",
        "#2 - Crie uma lista de nomes de frutas e ordene-a em ordem decrescente\n",
        "\n",
        "nomes"
      ],
      "metadata": {
        "id": "u-GMZIc974LO"
      },
      "execution_count": null,
      "outputs": []
    },
    {
      "cell_type": "markdown",
      "source": [
        "Função map() serve para aplicar uma função a cada elemento de uma lista, dispensando o uso de um loop (for ou while)\n",
        "\n",
        "map(funcao, iterável)\n",
        "Função filter() serve para filtrar elementos de uma sequência"
      ],
      "metadata": {
        "id": "lVE6AyV579X2"
      }
    },
    {
      "cell_type": "code",
      "source": [
        "#Exemplo função map - cria uma nova lista com o dobro \n",
        "numeros = [2, 4, 6, 3]\n",
        "nova_lista = list(map(lambda x : x*2, numeros))\n",
        "nova_lista"
      ],
      "metadata": {
        "id": "pUIqcXtm8C2n"
      },
      "execution_count": null,
      "outputs": []
    },
    {
      "cell_type": "code",
      "source": [
        "# pegar cada um dos números e dividir por 3\n",
        "numDivi = list(map(lambda x : x/3, numeros ))\n",
        "\n",
        "numDivi  "
      ],
      "metadata": {
        "id": "sfwzrMAE8Utu"
      },
      "execution_count": null,
      "outputs": []
    },
    {
      "cell_type": "code",
      "source": [
        "#Pega cada número e soma 2.\n",
        "soma2  = list(map(lambda x : x+2, numeros))\n",
        "soma2"
      ],
      "metadata": {
        "id": "27T9RYXb8YvG"
      },
      "execution_count": null,
      "outputs": []
    },
    {
      "cell_type": "code",
      "source": [
        "#Sem usar função map associada à uma função lambda\n",
        "new_list = []\n",
        "for n in numeros:\n",
        "  new_list.append(n*2)\n",
        "\n",
        "new_list\n",
        "     "
      ],
      "metadata": {
        "id": "OZJy9tRu8c0-"
      },
      "execution_count": null,
      "outputs": []
    },
    {
      "cell_type": "code",
      "source": [
        "len('abacate')>5"
      ],
      "metadata": {
        "id": "gA43Y9R38gTt"
      },
      "execution_count": null,
      "outputs": []
    },
    {
      "cell_type": "code",
      "source": [
        "#Exemplo função filter - a partir de uma lista de nomes, criar uma nova lista apenas com palavras com mais de 5 caracteres\n",
        "\n",
        "nomes = ['josé', 'joão', 'Sebastião', 'Angélica', 'Leonardo', 'Luana', 'Bárbara']\n",
        "\n",
        "new_list = list(filter(lambda x : len(x)>5, nomes))\n",
        "new_list"
      ],
      "metadata": {
        "id": "ElGnDlFe8jZ9"
      },
      "execution_count": null,
      "outputs": []
    },
    {
      "cell_type": "code",
      "source": [
        "# crie uma lista de notas, imprime as maiores que 6\n",
        "notas = [3, 4, 9, 8, 6, 7]\n",
        "newNotas = list(filter(lambda x : x >= 6, notas ))\n",
        "\n",
        "newNotas\n"
      ],
      "metadata": {
        "id": "lUgjdCLl8rqQ"
      },
      "execution_count": null,
      "outputs": []
    },
    {
      "cell_type": "code",
      "source": [
        "#1\n",
        "numeros = [7, 6, 8, 12, 7]\n",
        "\n",
        "new_list = list(map(lambda x : x**2, numeros))\n",
        "new_list"
      ],
      "metadata": {
        "id": "30erSBzK8558"
      },
      "execution_count": null,
      "outputs": []
    },
    {
      "cell_type": "code",
      "source": [
        "#2 \n",
        "nomes = ['fada', 'ferro', 'miragem', 'atalho', 'nó']\n",
        "\n",
        "new_list = list(map(lambda x : len(x),  nomes))\n",
        "new_list"
      ],
      "metadata": {
        "id": "6U5lFHeR861z"
      },
      "execution_count": null,
      "outputs": []
    },
    {
      "cell_type": "code",
      "source": [
        "#3\n",
        "numeros = [7, 3, 1, 4, 8, 23, 12]\n",
        "\n",
        "new_list = list(filter(lambda x: x%2==0, numeros ))\n",
        "\n",
        "new_list"
      ],
      "metadata": {
        "id": "nzhznpQn86_N"
      },
      "execution_count": null,
      "outputs": []
    },
    {
      "cell_type": "code",
      "source": [
        "#4\n",
        "nomes = ['fada', 'arado', 'miragem', 'atalho', 'alho']\n",
        "\n",
        "new_list = list(filter(lambda x : x[0] == 'a', nomes))\n",
        "new_list"
      ],
      "metadata": {
        "id": "CagJzLQX9AFs"
      },
      "execution_count": null,
      "outputs": []
    },
    {
      "cell_type": "code",
      "source": [
        "#5 \n",
        "notas = [5, 6.5, 7.5, 9, 8, 2, 6]\n",
        "\n",
        "new_notas = list(filter(lambda x : x >= 7, notas))\n",
        "\n",
        "new_notas"
      ],
      "metadata": {
        "id": "NwcDeGLU9APc"
      },
      "execution_count": null,
      "outputs": []
    },
    {
      "cell_type": "code",
      "source": [
        "#6\n",
        "palavras = ['zangão', 'batata', 'ameixa', 'estrago', 'fanta', 'unha', 'ovo']\n",
        "\n",
        "new_List = list(filter(lambda x : x[0].upper() in 'AEIOU', palavras))\n",
        "\n",
        "new_List"
      ],
      "metadata": {
        "id": "yYPCpACa9Abc"
      },
      "execution_count": null,
      "outputs": []
    },
    {
      "cell_type": "code",
      "source": [
        "#7\n",
        "numeros = [2, 3, 15, 30, 23, 60, 2, 45]\n",
        "\n",
        "new_list = list(filter(lambda x : x%3 == 0 and x%5== 0, numeros))\n",
        "new_list\n",
        "     "
      ],
      "metadata": {
        "id": "Xq7ZkEZA9J3k"
      },
      "execution_count": null,
      "outputs": []
    },
    {
      "cell_type": "code",
      "source": [
        "#8\n",
        "nomes = ['zangão', 'Zico', 'ameixa', 'Flamengo', 'fanta', 'unha', 'ovo']\n",
        "\n",
        "new_List = list(filter(lambda x : x[0].isupper(), nomes))\n",
        "\n",
        "new_List"
      ],
      "metadata": {
        "id": "fPDkH2DK9KDj"
      },
      "execution_count": null,
      "outputs": []
    },
    {
      "cell_type": "code",
      "source": [
        "#9\n",
        "\n",
        "iniciais = list(map(lambda x : x[0], nomes))\n",
        "\n",
        "iniciais"
      ],
      "metadata": {
        "id": "5xpNzIS19KM0"
      },
      "execution_count": null,
      "outputs": []
    },
    {
      "cell_type": "code",
      "source": [
        "#Escreva uma função que recebe uma lista de números e retorna uma nova lista contendo apenas os números pares elevados ao quadrado.\n",
        "\n",
        "lista = [2, 3, 4, 1, 23, 6, 3]\n",
        "\n",
        "pares_quadrados = list(map(lambda x : x**2, filter(lambda y : y%2==0, lista)))\n",
        "\n",
        "pares_quadrados"
      ],
      "metadata": {
        "colab": {
          "base_uri": "https://localhost:8080/"
        },
        "id": "1tt4JwIq9KVM",
        "outputId": "a7004a7e-5e59-4eea-cccd-f7ee78e60d67"
      },
      "execution_count": 10,
      "outputs": [
        {
          "output_type": "execute_result",
          "data": {
            "text/plain": [
              "[4, 16, 36]"
            ]
          },
          "metadata": {},
          "execution_count": 10
        }
      ]
    }
  ]
}